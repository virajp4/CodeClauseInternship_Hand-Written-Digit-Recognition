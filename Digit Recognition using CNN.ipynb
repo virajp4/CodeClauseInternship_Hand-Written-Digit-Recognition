{
 "cells": [
  {
   "cell_type": "markdown",
   "id": "f76b7ef4-a7ae-42aa-93fb-aa4da779d9f5",
   "metadata": {},
   "source": [
    "# HAND WRITTEN DIGIT RECOGNITION"
   ]
  },
  {
   "cell_type": "markdown",
   "id": "bf425f2f-f20e-40f8-8aa0-d4fbacaf694f",
   "metadata": {
    "jp-MarkdownHeadingCollapsed": true
   },
   "source": [
    "### Step 1: Import libraries"
   ]
  },
  {
   "cell_type": "code",
   "execution_count": 17,
   "id": "4c9cfbd1-54d4-46f4-9c70-5a264dd67b64",
   "metadata": {},
   "outputs": [],
   "source": [
    "import tensorflow as tf\n",
    "import matplotlib.pyplot as plt\n",
    "from tensorflow import keras\n",
    "from tensorflow.keras import utils\n",
    "import numpy as np"
   ]
  },
  {
   "cell_type": "markdown",
   "id": "0873a7f0-cefe-4241-8880-8e532e5c0c76",
   "metadata": {
    "jp-MarkdownHeadingCollapsed": true
   },
   "source": [
    "### Step 2: Load the dataset"
   ]
  },
  {
   "cell_type": "code",
   "execution_count": 18,
   "id": "b0ec9717-835e-42ca-a58d-91626898a4bb",
   "metadata": {},
   "outputs": [],
   "source": [
    "#loading mnist dataset\n",
    "mnist = tf.keras.datasets.mnist "
   ]
  },
  {
   "cell_type": "code",
   "execution_count": 19,
   "id": "96135b75-c4ba-49c0-9760-561fafd55bc7",
   "metadata": {},
   "outputs": [],
   "source": [
    "#Dividing into train and test dataset\n",
    "(x_train, y_train), (x_test, y_test) = mnist.load_data()"
   ]
  },
  {
   "cell_type": "code",
   "execution_count": 20,
   "id": "74128de0-86d8-4cfc-bc38-8933fe99e084",
   "metadata": {},
   "outputs": [
    {
     "data": {
      "text/plain": [
       "(60000, 28, 28)"
      ]
     },
     "execution_count": 20,
     "metadata": {},
     "output_type": "execute_result"
    }
   ],
   "source": [
    "x_train.shape"
   ]
  },
  {
   "cell_type": "code",
   "execution_count": 21,
   "id": "fe5ad753-10e3-4975-98df-2052cbf0367a",
   "metadata": {},
   "outputs": [
    {
     "name": "stdout",
     "output_type": "stream",
     "text": [
      "[[  0   0   0   0   0   0   0   0   0   0   0   0   0   0   0   0   0   0\n",
      "    0   0   0   0   0   0   0   0   0   0]\n",
      " [  0   0   0   0   0   0   0   0   0   0   0   0   0   0   0   0   0   0\n",
      "    0   0   0   0   0   0   0   0   0   0]\n",
      " [  0   0   0   0   0   0   0   0   0   0   0   0   0   0   0   0   0   0\n",
      "    0   0   0   0   0   0   0   0   0   0]\n",
      " [  0   0   0   0   0   0   0   0   0   0   0   0   0   0   0   0   0   0\n",
      "    0   0   0   0   0   0   0   0   0   0]\n",
      " [  0   0   0   0   0   0   0   0   0   0   0   0   0   0   0   0   0   0\n",
      "    0   0   0   0   0   0   0   0   0   0]\n",
      " [  0   0   0   0   0   0   0   0   0   0   0   0   0   0   0  13  25 100\n",
      "  122   7   0   0   0   0   0   0   0   0]\n",
      " [  0   0   0   0   0   0   0   0   0   0   0   0   0  33 151 208 252 252\n",
      "  252 146   0   0   0   0   0   0   0   0]\n",
      " [  0   0   0   0   0   0   0   0   0   0   0  40 152 244 252 253 224 211\n",
      "  252 232  40   0   0   0   0   0   0   0]\n",
      " [  0   0   0   0   0   0   0   0   0  15 152 239 252 252 252 216  31  37\n",
      "  252 252  60   0   0   0   0   0   0   0]\n",
      " [  0   0   0   0   0   0   0   0   0  96 252 252 252 252 217  29   0  37\n",
      "  252 252  60   0   0   0   0   0   0   0]\n",
      " [  0   0   0   0   0   0   0   0   0 181 252 252 220 167  30   0   0  77\n",
      "  252 252  60   0   0   0   0   0   0   0]\n",
      " [  0   0   0   0   0   0   0   0   0  26 128  58  22   0   0   0   0 100\n",
      "  252 252  60   0   0   0   0   0   0   0]\n",
      " [  0   0   0   0   0   0   0   0   0   0   0   0   0   0   0   0   0 157\n",
      "  252 252  60   0   0   0   0   0   0   0]\n",
      " [  0   0   0   0   0   0   0   0   0   0   0   0   0 110 121 122 121 202\n",
      "  252 194   3   0   0   0   0   0   0   0]\n",
      " [  0   0   0   0   0   0   0   0   0   0  10  53 179 253 253 255 253 253\n",
      "  228  35   0   0   0   0   0   0   0   0]\n",
      " [  0   0   0   0   0   0   0   0   5  54 227 252 243 228 170 242 252 252\n",
      "  231 117   6   0   0   0   0   0   0   0]\n",
      " [  0   0   0   0   0   0   0   6  78 252 252 125  59   0  18 208 252 252\n",
      "  252 252  87   7   0   0   0   0   0   0]\n",
      " [  0   0   0   0   0   0   5 135 252 252 180  16   0  21 203 253 247 129\n",
      "  173 252 252 184  66  49  49   0   0   0]\n",
      " [  0   0   0   0   0   3 136 252 241 106  17   0  53 200 252 216  65   0\n",
      "   14  72 163 241 252 252 223   0   0   0]\n",
      " [  0   0   0   0   0 105 252 242  88  18  73 170 244 252 126  29   0   0\n",
      "    0   0   0  89 180 180  37   0   0   0]\n",
      " [  0   0   0   0   0 231 252 245 205 216 252 252 252 124   3   0   0   0\n",
      "    0   0   0   0   0   0   0   0   0   0]\n",
      " [  0   0   0   0   0 207 252 252 252 252 178 116  36   4   0   0   0   0\n",
      "    0   0   0   0   0   0   0   0   0   0]\n",
      " [  0   0   0   0   0  13  93 143 121  23   6   0   0   0   0   0   0   0\n",
      "    0   0   0   0   0   0   0   0   0   0]\n",
      " [  0   0   0   0   0   0   0   0   0   0   0   0   0   0   0   0   0   0\n",
      "    0   0   0   0   0   0   0   0   0   0]\n",
      " [  0   0   0   0   0   0   0   0   0   0   0   0   0   0   0   0   0   0\n",
      "    0   0   0   0   0   0   0   0   0   0]\n",
      " [  0   0   0   0   0   0   0   0   0   0   0   0   0   0   0   0   0   0\n",
      "    0   0   0   0   0   0   0   0   0   0]\n",
      " [  0   0   0   0   0   0   0   0   0   0   0   0   0   0   0   0   0   0\n",
      "    0   0   0   0   0   0   0   0   0   0]\n",
      " [  0   0   0   0   0   0   0   0   0   0   0   0   0   0   0   0   0   0\n",
      "    0   0   0   0   0   0   0   0   0   0]]\n"
     ]
    },
    {
     "data": {
      "image/png": "[encoded data removed]",
      "text/plain": [
       "<Figure size 640x480 with 1 Axes>"
      ]
     },
     "metadata": {},
     "output_type": "display_data"
    }
   ],
   "source": [
    "#Displaying the dataset\n",
    "plt.imshow(x_train[5])\n",
    "print (x_train[5])"
   ]
  },
  {
   "cell_type": "markdown",
   "id": "37e5f18d-e05d-4030-a6e9-672abdeb2997",
   "metadata": {
    "jp-MarkdownHeadingCollapsed": true
   },
   "source": [
    "### Step 3: Normalizing the images"
   ]
  },
  {
   "cell_type": "code",
   "execution_count": 22,
   "id": "8fcf8b8d-2ab7-4467-a34c-79f0856d6910",
   "metadata": {},
   "outputs": [],
   "source": [
    "# Normalizing grey images in range (0,1)\n",
    "x_train = x_train/255\n",
    "x_test = x_test/255"
   ]
  },
  {
   "cell_type": "code",
   "execution_count": 23,
   "id": "52c23f59-388f-4f05-9d5d-54b8ed5a7aeb",
   "metadata": {},
   "outputs": [
    {
     "name": "stdout",
     "output_type": "stream",
     "text": [
      "Training samples dimention:  (60000, 28, 28, 1)\n",
      "Testing samples dimention:  (10000, 28, 28, 1)\n"
     ]
    }
   ],
   "source": [
    "# Resizing image for convolution operation\n",
    "img_size = 28\n",
    "x_trainr = np.array(x_train).reshape(-1,img_size,img_size,1)\n",
    "x_testr = np.array(x_test).reshape(-1,img_size,img_size,1)\n",
    "print(\"Training samples dimention: \",x_trainr.shape)\n",
    "print(\"Testing samples dimention: \",x_testr.shape)"
   ]
  },
  {
   "cell_type": "markdown",
   "id": "def61123-2ffe-4b74-a98b-dee3a9bf6234",
   "metadata": {
    "jp-MarkdownHeadingCollapsed": true
   },
   "source": [
    "### Step 4: Create the Model using Convolution Layers"
   ]
  },
  {
   "cell_type": "code",
   "execution_count": 24,
   "id": "69d7c125-f67c-4ec2-bfd8-9e7a9f8ba890",
   "metadata": {},
   "outputs": [],
   "source": [
    "from tensorflow.keras.models import Sequential\n",
    "from tensorflow.keras.layers import Dense, Dropout, Activation, Flatten, Conv2D, MaxPooling2D\n",
    "\n",
    "model = Sequential()\n",
    "\n",
    "#First Convoluion Layer\n",
    "model.add(Conv2D(64, (3,3), input_shape = x_trainr.shape[1:]))\n",
    "model.add(Activation(\"relu\"))\n",
    "model.add(MaxPooling2D(pool_size = (2,2)))\n",
    "\n",
    "#Second Convoluion Layer\n",
    "model.add(Conv2D(64, (3,3)))\n",
    "model.add(Activation(\"relu\"))\n",
    "model.add(MaxPooling2D(pool_size = (2,2)))\n",
    "\n",
    "#Third Convoluion Layer\n",
    "model.add(Conv2D(64, (3,3)))\n",
    "model.add(Activation(\"relu\")) \n",
    "model.add(MaxPooling2D(pool_size = (2,2)))\n",
    "\n",
    "#Fully Connected Layer\n",
    "model.add(Flatten())\n",
    "model.add(Dense(64))\n",
    "model.add(Activation(\"relu\"))\n",
    "\n",
    "#Fully Connected Layer 2\n",
    "model.add(Dense(32))\n",
    "model.add(Activation(\"relu\"))\n",
    "\n",
    "#Last Fully Connected Layer\n",
    "model.add(Dense(10))\n",
    "model.add(Activation(\"softmax\"))"
   ]
  },
  {
   "cell_type": "code",
   "execution_count": 25,
   "id": "789d9af2-bbd2-4fcc-a7ad-882295b601cb",
   "metadata": {},
   "outputs": [
    {
     "name": "stdout",
     "output_type": "stream",
     "text": [
      "Model: \"sequential_1\"\n",
      "_________________________________________________________________\n",
      " Layer (type)                Output Shape              Param #   \n",
      "=================================================================\n",
      " conv2d_3 (Conv2D)           (None, 26, 26, 64)        640       \n",
      "                                                                 \n",
      " activation_6 (Activation)   (None, 26, 26, 64)        0         \n",
      "                                                                 \n",
      " max_pooling2d_3 (MaxPoolin  (None, 13, 13, 64)        0         \n",
      " g2D)                                                            \n",
      "                                                                 \n",
      " conv2d_4 (Conv2D)           (None, 11, 11, 64)        36928     \n",
      "                                                                 \n",
      " activation_7 (Activation)   (None, 11, 11, 64)        0         \n",
      "                                                                 \n",
      " max_pooling2d_4 (MaxPoolin  (None, 5, 5, 64)          0         \n",
      " g2D)                                                            \n",
      "                                                                 \n",
      " conv2d_5 (Conv2D)           (None, 3, 3, 64)          36928     \n",
      "                                                                 \n",
      " activation_8 (Activation)   (None, 3, 3, 64)          0         \n",
      "                                                                 \n",
      " max_pooling2d_5 (MaxPoolin  (None, 1, 1, 64)          0         \n",
      " g2D)                                                            \n",
      "                                                                 \n",
      " flatten_1 (Flatten)         (None, 64)                0         \n",
      "                                                                 \n",
      " dense_3 (Dense)             (None, 64)                4160      \n",
      "                                                                 \n",
      " activation_9 (Activation)   (None, 64)                0         \n",
      "                                                                 \n",
      " dense_4 (Dense)             (None, 32)                2080      \n",
      "                                                                 \n",
      " activation_10 (Activation)  (None, 32)                0         \n",
      "                                                                 \n",
      " dense_5 (Dense)             (None, 10)                330       \n",
      "                                                                 \n",
      " activation_11 (Activation)  (None, 10)                0         \n",
      "                                                                 \n",
      "=================================================================\n",
      "Total params: 81066 (316.66 KB)\n",
      "Trainable params: 81066 (316.66 KB)\n",
      "Non-trainable params: 0 (0.00 Byte)\n",
      "_________________________________________________________________\n"
     ]
    }
   ],
   "source": [
    "model.summary()"
   ]
  },
  {
   "cell_type": "code",
   "execution_count": 26,
   "id": "ac5a0188-385e-4884-aeab-3fc295c09f52",
   "metadata": {},
   "outputs": [
    {
     "name": "stdout",
     "output_type": "stream",
     "text": [
      "Total Training Samples:  60000\n"
     ]
    }
   ],
   "source": [
    "print(\"Total Training Samples: \",len(x_trainr))"
   ]
  },
  {
   "cell_type": "markdown",
   "id": "d8792def-a1d9-445c-952e-97442901426c",
   "metadata": {
    "jp-MarkdownHeadingCollapsed": true
   },
   "source": [
    "### Step 5: Train the Convolution Layer Model"
   ]
  },
  {
   "cell_type": "code",
   "execution_count": 27,
   "id": "b67a6ec5-5244-4fe1-8ee0-45fd11438eb1",
   "metadata": {},
   "outputs": [
    {
     "name": "stdout",
     "output_type": "stream",
     "text": [
      "Epoch 1/5\n",
      "1500/1500 [==============================] - 28s 18ms/step - loss: 0.2590 - accuracy: 0.9193 - val_loss: 0.0882 - val_accuracy: 0.9741\n",
      "Epoch 2/5\n",
      "1500/1500 [==============================] - 37s 25ms/step - loss: 0.0854 - accuracy: 0.9738 - val_loss: 0.0696 - val_accuracy: 0.9805\n",
      "Epoch 3/5\n",
      "1500/1500 [==============================] - 37s 25ms/step - loss: 0.0609 - accuracy: 0.9810 - val_loss: 0.0604 - val_accuracy: 0.9824\n",
      "Epoch 4/5\n",
      "1500/1500 [==============================] - 36s 24ms/step - loss: 0.0493 - accuracy: 0.9843 - val_loss: 0.0596 - val_accuracy: 0.9833\n",
      "Epoch 5/5\n",
      "1500/1500 [==============================] - 37s 24ms/step - loss: 0.0397 - accuracy: 0.9878 - val_loss: 0.0572 - val_accuracy: 0.9830\n"
     ]
    },
    {
     "data": {
      "text/plain": [
       "<keras.src.callbacks.History at 0x16b05162560>"
      ]
     },
     "execution_count": 27,
     "metadata": {},
     "output_type": "execute_result"
    }
   ],
   "source": [
    "# Compile the model\n",
    "model.compile(\n",
    "    loss=\"sparse_categorical_crossentropy\",  # Define the loss function for classification\n",
    "    optimizer=\"adam\",  # Specify the optimization algorithm (Adam optimizer)\n",
    "    metrics=[\"accuracy\"]  # Specify evaluation metric(s) (accuracy in this case)\n",
    ")\n",
    "\n",
    "#Train the model\n",
    "model.fit(\n",
    "    x_trainr,  # Training input data (features)\n",
    "    y_train,  # Training target data (labels)\n",
    "    epochs=5,  # Number of training epochs (iterations through the dataset)\n",
    "    validation_split=0.2  # Fraction of training data used for validation\n",
    ")"
   ]
  },
  {
   "cell_type": "markdown",
   "id": "cd5ff9c2-3558-4d6f-ba20-174e9700d585",
   "metadata": {
    "jp-MarkdownHeadingCollapsed": true
   },
   "source": [
    "### Step 6: Check accuracy of the model"
   ]
  },
  {
   "cell_type": "code",
   "execution_count": 28,
   "id": "8f646bc7-a4b8-4a12-becd-317fed029444",
   "metadata": {},
   "outputs": [
    {
     "name": "stdout",
     "output_type": "stream",
     "text": [
      "313/313 [==============================] - 2s 5ms/step - loss: 0.0592 - accuracy: 0.9819\n",
      "Test Loss on 10,000 test samples:  0.059231895953416824\n",
      "Validation Acccuracy on 10,000 test samples:  0.9818999767303467\n"
     ]
    }
   ],
   "source": [
    "#Testing on dataset MNIT\n",
    "\n",
    "test_loss, test_acc = model.evaluate(x_testr, y_test)\n",
    "print(\"Test Loss on 10,000 test samples: \", test_loss)\n",
    "print(\"Validation Acccuracy on 10,000 test samples: \", test_acc)"
   ]
  },
  {
   "cell_type": "code",
   "execution_count": 29,
   "id": "1ad31f56-ff81-40e1-9352-bd947c9a348c",
   "metadata": {},
   "outputs": [
    {
     "name": "stdout",
     "output_type": "stream",
     "text": [
      "313/313 [==============================] - 2s 5ms/step\n",
      "[[1.28699103e-05 4.44026919e-05 1.05233310e-04 ... 9.99719322e-01\n",
      "  8.14921623e-06 7.29649946e-06]\n",
      " [4.43551471e-06 3.42085968e-07 9.99982595e-01 ... 1.56595803e-07\n",
      "  8.38455253e-06 2.49751455e-08]\n",
      " [2.51238703e-07 9.99953032e-01 3.91271578e-06 ... 7.23279663e-06\n",
      "  9.97845291e-06 2.69034587e-07]\n",
      " ...\n",
      " [3.40439482e-11 1.32383327e-10 2.13593214e-08 ... 1.74460091e-08\n",
      "  3.90435329e-09 1.59997811e-07]\n",
      " [1.58463245e-05 7.39417715e-07 1.03255594e-07 ... 3.27509975e-09\n",
      "  2.10066978e-03 3.16998747e-04]\n",
      " [1.99610071e-07 2.48255444e-10 2.94435125e-07 ... 1.25518684e-11\n",
      "  7.11682151e-06 3.18111670e-09]]\n"
     ]
    }
   ],
   "source": [
    "# Use the trained model to make predictions on a set of test data (x_testr)\n",
    "predictions = model.predict([x_testr])\n",
    "\n",
    "# Print the predictions, which are typically a set of probabilities for each class\n",
    "print(predictions)"
   ]
  },
  {
   "cell_type": "code",
   "execution_count": 31,
   "id": "04883276-3ab1-40d9-9213-5c4a85e33156",
   "metadata": {},
   "outputs": [
    {
     "name": "stdout",
     "output_type": "stream",
     "text": [
      "Predicted Number:  7\n"
     ]
    },
    {
     "data": {
      "text/plain": [
       "<matplotlib.image.AxesImage at 0x16b050a9db0>"
      ]
     },
     "execution_count": 31,
     "metadata": {},
     "output_type": "execute_result"
    },
    {
     "data": {
      "image/png": "[encoded data removed]",
      "text/plain": [
       "<Figure size 640x480 with 1 Axes>"
      ]
     },
     "metadata": {},
     "output_type": "display_data"
    }
   ],
   "source": [
    "# Print the predicted class for the fifth sample in the predictions array\n",
    "predicted_class = np.argmax(predictions[756])\n",
    "print(\"Predicted Number: \",predicted_class)\n",
    "\n",
    "# Display the corresponding image from the test data (assuming x_test contains the images)\n",
    "plt.imshow(x_test[756])"
   ]
  },
  {
   "cell_type": "code",
   "execution_count": 32,
   "id": "4dafb40a-fa5e-4141-87d3-d3895fefff00",
   "metadata": {},
   "outputs": [],
   "source": [
    "# Save the CNN keras model\n",
    "model.save(\"digit_recog_model.keras\")"
   ]
  },
  {
   "cell_type": "markdown",
   "id": "4e8e4a78-a587-400d-9e08-6d457a072502",
   "metadata": {
    "jp-MarkdownHeadingCollapsed": true
   },
   "source": [
    "### Step 7: Test the model using Tkinter GUI (Run this to directly test the model without training)"
   ]
  },
  {
   "cell_type": "code",
   "execution_count": 2,
   "id": "4f632452-f47b-4eca-a567-404d0ed9f73e",
   "metadata": {},
   "outputs": [
    {
     "name": "stdout",
     "output_type": "stream",
     "text": [
      "1/1 [==============================] - 0s 91ms/step\n",
      "Predicted Digit:  5 \n",
      "Confidence:  99.61\n"
     ]
    }
   ],
   "source": [
    "import tensorflow as tf\n",
    "import matplotlib.pyplot as plt\n",
    "from tensorflow import keras\n",
    "from tensorflow.keras import utils\n",
    "import numpy as np\n",
    "import tkinter as tk\n",
    "from tkinter import Canvas, Button, Label\n",
    "from PIL import Image, ImageDraw  \n",
    "\n",
    "# Load your pre-trained Keras model\n",
    "model = tf.keras.models.load_model('digit_recog_model.keras')\n",
    "\n",
    "class DigitRecognizerApp:\n",
    "    def __init__(self, root):\n",
    "        self.root = root\n",
    "        self.root.title(\"Digit Recognizer\")\n",
    "\n",
    "        self.canvas = Canvas(root, width=280, height=280, bg=\"white\")\n",
    "        self.canvas.pack()\n",
    "        self.canvas.bind(\"<Button-1>\", self.start_draw)\n",
    "        self.canvas.bind(\"<B1-Motion>\", self.draw)\n",
    "\n",
    "        self.predict_button = Button(root, text=\"Predict\", command=self.predict)\n",
    "        self.predict_button.pack()\n",
    "\n",
    "        self.clear_button = Button(root, text=\"Clear\", command=self.clear_canvas)\n",
    "        self.clear_button.pack()\n",
    "\n",
    "        self.result_label = Label(root, text=\"\", font=(\"Helvetica\", 24))\n",
    "        self.result_label.pack()\n",
    "\n",
    "        self.prev_x = None\n",
    "        self.prev_y = None\n",
    "        self.drawing = False\n",
    "        self.image = Image.new(\"L\", (280, 280), \"white\")\n",
    "\n",
    "    def start_draw(self, event):\n",
    "        self.prev_x = event.x\n",
    "        self.prev_y = event.y\n",
    "        self.drawing = True\n",
    "\n",
    "    def draw(self, event):\n",
    "        if self.drawing:\n",
    "            x, y = event.x, event.y\n",
    "            self.canvas.create_line((self.prev_x, self.prev_y, x, y), fill=\"black\", width=15)\n",
    "            self.image_draw = ImageDraw.Draw(self.image)\n",
    "            self.image_draw.line((self.prev_x, self.prev_y, x, y), fill=\"black\", width=15)\n",
    "            self.prev_x = x\n",
    "            self.prev_y = y\n",
    "\n",
    "    def clear_canvas(self):\n",
    "        self.canvas.delete(\"all\")\n",
    "        self.image = Image.new(\"L\", (280, 280), \"white\")\n",
    "\n",
    "    def predict(self):\n",
    "        img = self.image.resize((28, 28), Image.BILINEAR)\n",
    "        img = 255 - np.array(img)\n",
    "        img = img.reshape(1, 28, 28, 1)\n",
    "        img = img / 255.0\n",
    "\n",
    "        predictions = model.predict(img)\n",
    "        predicted_digit = np.argmax(predictions[0])\n",
    "        confidence = np.max(predictions[0]) * 100\n",
    "        confidence = round(confidence, 2)\n",
    "\n",
    "        self.result_label.config(text=f\"Predicted Digit: {predicted_digit}\\nConfidence: {confidence}%\")\n",
    "        print(\"Predicted Digit: \", predicted_digit, \"\\nConfidence: \", confidence)\n",
    "        \n",
    "if __name__ == \"__main__\":\n",
    "    root = tk.Tk()\n",
    "    app = DigitRecognizerApp(root)\n",
    "    root.mainloop()"
   ]
  }
 ],
 "metadata": {
  "kernelspec": {
   "display_name": "Python 3 (ipykernel)",
   "language": "python",
   "name": "python3"
  },
  "language_info": {
   "codemirror_mode": {
    "name": "ipython",
    "version": 3
   },
   "file_extension": ".py",
   "mimetype": "text/x-python",
   "name": "python",
   "nbconvert_exporter": "python",
   "pygments_lexer": "ipython3",
   "version": "3.10.1"
  }
 },
 "nbformat": 4,
 "nbformat_minor": 5
}
